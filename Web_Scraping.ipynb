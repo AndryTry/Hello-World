{
  "nbformat": 4,
  "nbformat_minor": 0,
  "metadata": {
    "colab": {
      "name": "Web Scraping.ipynb",
      "provenance": [],
      "collapsed_sections": [],
      "include_colab_link": true
    },
    "kernelspec": {
      "name": "python3",
      "display_name": "Python 3"
    },
    "language_info": {
      "name": "python"
    }
  },
  "cells": [
    {
      "cell_type": "markdown",
      "metadata": {
        "id": "view-in-github",
        "colab_type": "text"
      },
      "source": [
        "<a href=\"https://colab.research.google.com/github/AndryTry/Hello-World/blob/master/Web_Scraping.ipynb\" target=\"_parent\"><img src=\"https://colab.research.google.com/assets/colab-badge.svg\" alt=\"Open In Colab\"/></a>"
      ]
    },
    {
      "cell_type": "code",
      "execution_count": null,
      "metadata": {
        "colab": {
          "base_uri": "https://localhost:8080/"
        },
        "id": "6X1ldi8oHV4J",
        "outputId": "9b326c88-ec29-4f4b-dd43-ec4f81508571"
      },
      "outputs": [
        {
          "output_type": "stream",
          "name": "stdout",
          "text": [
            "python connect to link\n"
          ]
        }
      ],
      "source": [
        "#!python3\n",
        "\n",
        "import requests\n",
        "import pandas\n",
        "x \n",
        "from bs4 import BeautifulSoup\n",
        "\n",
        "if __name__ == \"__main__\":\n",
        "\n",
        "  link = \"https://id.wikipedia.org/wiki/Demografi_Indonesia\"\n",
        "  req = requests.get(link)\n",
        "\n",
        "  if req.status_code == 200:\n",
        "    print(\"python connect to link\")\n",
        "    page = req.content\n",
        "    soup = BeautifulSoup(page, \"html.parser\")\n",
        "    title = soup.find(\"title\").text\n",
        "  else:\n",
        "    print(\"connection failed\")\n",
        "    print(f\"{req.status_code}\")\n",
        "  "
      ]
    },
    {
      "cell_type": "code",
      "source": [
        "soup_1 = soup.find(\"table\", class_=\"wikitable sortable\")\n",
        "\n",
        "soup_cols = soup_1.find_all(\"th\")[0:4]\n",
        "cols = []\n",
        "for col in soup_cols:\n",
        "  cols.append(col.text.strip())\n",
        "\n",
        "\n",
        "soup_raws = soup_1.find_all(\"td\")\n",
        "raws = []\n",
        "\n",
        "i = 1\n",
        "dict_raw = {}\n",
        "\n",
        "for raw in soup_raws:\n",
        "  if i <= 4:\n",
        "    dict_raw['val_'+str(i)] = raw.text.strip()\n",
        "    i += 1\n",
        "\n",
        "  else:\n",
        "    raws.append(dict_raw)\n",
        "    i = 1\n",
        "    dict_raw = {}\n",
        "    dict_raw['val_'+str(i)] = raw.text.strip()\n",
        "    i += 1"
      ],
      "metadata": {
        "id": "pV0BfMZiK_Hc"
      },
      "execution_count": null,
      "outputs": []
    },
    {
      "cell_type": "code",
      "source": [
        "df = pandas.DataFrame(raws)\n",
        "df.columns = cols\n",
        "df.to_excel('Populasi Indonesia.xlsx', index=False)"
      ],
      "metadata": {
        "id": "XUfgrRktUEB0"
      },
      "execution_count": null,
      "outputs": []
    }
  ]
}